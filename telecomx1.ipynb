{
  "nbformat": 4,
  "nbformat_minor": 0,
  "metadata": {
    "colab": {
      "provenance": [],
      "authorship_tag": "ABX9TyMnkiT7pxmnrLqM/sXf64oB",
      "include_colab_link": true
    },
    "kernelspec": {
      "name": "python3",
      "display_name": "Python 3"
    },
    "language_info": {
      "name": "python"
    }
  },
  "cells": [
    {
      "cell_type": "markdown",
      "metadata": {
        "id": "view-in-github",
        "colab_type": "text"
      },
      "source": [
        "<a href=\"https://colab.research.google.com/github/bagxxi/ProyectoSuricata/blob/main/telecomx1.ipynb\" target=\"_parent\"><img src=\"https://colab.research.google.com/assets/colab-badge.svg\" alt=\"Open In Colab\"/></a>"
      ]
    },
    {
      "cell_type": "code",
      "execution_count": 1,
      "metadata": {
        "colab": {
          "base_uri": "https://localhost:8080/"
        },
        "id": "NuhMjRdCZgiF",
        "outputId": "53f4a2da-d2c5-4a27-a2fb-1d91223fb0cb"
      },
      "outputs": [
        {
          "output_type": "stream",
          "name": "stdout",
          "text": [
            "Datos cargados exitosamente\n",
            "   customerID Churn                                           customer  \\\n",
            "0  0002-ORFBO    No  {'gender': 'Female', 'SeniorCitizen': 0, 'Part...   \n",
            "1  0003-MKNFE    No  {'gender': 'Male', 'SeniorCitizen': 0, 'Partne...   \n",
            "2  0004-TLHLJ   Yes  {'gender': 'Male', 'SeniorCitizen': 0, 'Partne...   \n",
            "3  0011-IGKFF   Yes  {'gender': 'Male', 'SeniorCitizen': 1, 'Partne...   \n",
            "4  0013-EXCHZ   Yes  {'gender': 'Female', 'SeniorCitizen': 1, 'Part...   \n",
            "\n",
            "                                             phone  \\\n",
            "0   {'PhoneService': 'Yes', 'MultipleLines': 'No'}   \n",
            "1  {'PhoneService': 'Yes', 'MultipleLines': 'Yes'}   \n",
            "2   {'PhoneService': 'Yes', 'MultipleLines': 'No'}   \n",
            "3   {'PhoneService': 'Yes', 'MultipleLines': 'No'}   \n",
            "4   {'PhoneService': 'Yes', 'MultipleLines': 'No'}   \n",
            "\n",
            "                                            internet  \\\n",
            "0  {'InternetService': 'DSL', 'OnlineSecurity': '...   \n",
            "1  {'InternetService': 'DSL', 'OnlineSecurity': '...   \n",
            "2  {'InternetService': 'Fiber optic', 'OnlineSecu...   \n",
            "3  {'InternetService': 'Fiber optic', 'OnlineSecu...   \n",
            "4  {'InternetService': 'Fiber optic', 'OnlineSecu...   \n",
            "\n",
            "                                             account  \n",
            "0  {'Contract': 'One year', 'PaperlessBilling': '...  \n",
            "1  {'Contract': 'Month-to-month', 'PaperlessBilli...  \n",
            "2  {'Contract': 'Month-to-month', 'PaperlessBilli...  \n",
            "3  {'Contract': 'Month-to-month', 'PaperlessBilli...  \n",
            "4  {'Contract': 'Month-to-month', 'PaperlessBilli...  \n"
          ]
        }
      ],
      "source": [
        "import pandas as pd\n",
        "import requests\n",
        "\n",
        "# URL del archivo JSON\n",
        "url = \"https://raw.githubusercontent.com/ingridcristh/challenge2-data-science-LATAM/main/TelecomX_Data.json\"\n",
        "\n",
        "# Solicitar los datos desde la URL\n",
        "response = requests.get(url)\n",
        "\n",
        "# Comprobar que la solicitud fue exitosa\n",
        "if response.status_code == 200:\n",
        "    print(\"Datos cargados exitosamente\")\n",
        "else:\n",
        "    print(f\"Error al cargar los datos: {response.status_code}\")\n",
        "\n",
        "# Convertir los datos a formato JSON\n",
        "data = response.json()\n",
        "\n",
        "# Crear un DataFrame de Pandas\n",
        "df = pd.DataFrame(data)\n",
        "\n",
        "# Mostrar las primeras filas del DataFrame\n",
        "print(df.head())"
      ]
    }
  ]
}